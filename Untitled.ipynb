{
 "cells": [
  {
   "cell_type": "code",
   "execution_count": 1,
   "id": "0bf5faa6-5e31-4658-916d-b4f250b0d23b",
   "metadata": {},
   "outputs": [],
   "source": [
    "import pandas as pd"
   ]
  },
  {
   "cell_type": "code",
   "execution_count": 19,
   "id": "a01effe6-849e-45fc-9537-8fe67bf68894",
   "metadata": {},
   "outputs": [
    {
     "name": "stdout",
     "output_type": "stream",
     "text": [
      "0\n"
     ]
    }
   ],
   "source": [
    "#get metastatic info\n",
    "metastatic_data = pd.read_csv('LIDC_diagnosis-data_metastasis.csv')\n",
    "\n",
    "if 'LIDC-IDRI-0001' not in metastatic_data['patient_id'].values:\n",
    "    print('0')\n",
    "else:\n",
    "    print('Wow')\n"
   ]
  },
  {
   "cell_type": "code",
   "execution_count": null,
   "id": "950c439e-3b5e-4024-98c8-22010cc3a7e1",
   "metadata": {},
   "outputs": [],
   "source": []
  }
 ],
 "metadata": {
  "kernelspec": {
   "display_name": "Python 3 (ipykernel)",
   "language": "python",
   "name": "python3"
  },
  "language_info": {
   "codemirror_mode": {
    "name": "ipython",
    "version": 3
   },
   "file_extension": ".py",
   "mimetype": "text/x-python",
   "name": "python",
   "nbconvert_exporter": "python",
   "pygments_lexer": "ipython3",
   "version": "3.9.7"
  }
 },
 "nbformat": 4,
 "nbformat_minor": 5
}
